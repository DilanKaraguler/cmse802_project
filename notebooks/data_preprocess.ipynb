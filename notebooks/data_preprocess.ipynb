{
 "cells": [
  {
   "cell_type": "code",
   "execution_count": 5,
   "metadata": {},
   "outputs": [],
   "source": [
    "import torch_geometric \n",
    "import torch\n",
    "from torch_geometric.datasets import QM9\n",
    "import random\n",
    "import os\n",
    "#dataset = QM9(root='data/QM9')\n"
   ]
  },
  {
   "cell_type": "code",
   "execution_count": 6,
   "metadata": {},
   "outputs": [
    {
     "name": "stderr",
     "output_type": "stream",
     "text": [
      "/var/folders/0f/4zff17dd2819s0w6q2xfg0200000gn/T/ipykernel_24150/3866026726.py:1: FutureWarning: You are using `torch.load` with `weights_only=False` (the current default value), which uses the default pickle module implicitly. It is possible to construct malicious pickle data which will execute arbitrary code during unpickling (See https://github.com/pytorch/pytorch/blob/main/SECURITY.md#untrusted-models for more details). In a future release, the default value for `weights_only` will be flipped to `True`. This limits the functions that could be executed during unpickling. Arbitrary objects will no longer be allowed to be loaded via this mode unless they are explicitly allowlisted by the user via `torch.serialization.add_safe_globals`. We recommend you start setting `weights_only=True` for any use case where you don't have full control of the loaded file. Please open an issue on GitHub for any issues related to this experimental feature.\n",
      "  data = torch.load('/Users/dilankaraguler/Desktop/cmse802_project/data/QM9/raw/qm9_v3.pt')\n"
     ]
    }
   ],
   "source": [
    "data = torch.load('/Users/dilankaraguler/Desktop/cmse802_project/data/QM9/raw/qm9_v3.pt')"
   ]
  },
  {
   "cell_type": "code",
   "execution_count": 7,
   "metadata": {},
   "outputs": [
    {
     "name": "stdout",
     "output_type": "stream",
     "text": [
      "Data keys are dict_keys(['idx', 'name', 'z', 'x', 'pos', 'edge_index', 'edge_attr', 'y'])\n"
     ]
    }
   ],
   "source": [
    "print('Data keys are', data[0].keys())"
   ]
  },
  {
   "cell_type": "code",
   "execution_count": 8,
   "metadata": {},
   "outputs": [],
   "source": [
    "num_samples = int(0.1 * len(data))\n",
    "data_10_percent = random.sample(data, num_samples)"
   ]
  },
  {
   "cell_type": "code",
   "execution_count": 9,
   "metadata": {},
   "outputs": [],
   "source": [
    "y_values = [molecule['y'] for molecule in data_10_percent]\n",
    "y_combined = torch.stack(y_values)\n",
    "len(y_combined)\n",
    "\n",
    "directory = '/Users/dilankaraguler/Desktop/cmse802_project/data/QM9/processed'\n",
    "\n",
    "os.makedirs(directory, exist_ok=True)\n",
    "\n",
    "# Specify the full path to the file\n",
    "file_path = os.path.join(directory, 'y.pt')\n",
    "\n",
    "# Save the list of tensors to a file\n",
    "torch.save(y_combined, file_path)"
   ]
  },
  {
   "cell_type": "code",
   "execution_count": 10,
   "metadata": {},
   "outputs": [],
   "source": [
    "import sys\n",
    "sys.path.append(os.path.abspath('/Users/dilankaraguler/Desktop/cmse802_project/src/data_loading'))\n",
    "import data_read\n",
    "from data_read import read_file_new "
   ]
  },
  {
   "cell_type": "code",
   "execution_count": 11,
   "metadata": {},
   "outputs": [],
   "source": [
    "sys.path.append(os.path.abspath('/Users/dilankaraguler/Desktop/cmse802_project/src/topology'))\n",
    "import path_complexes\n",
    "from path_complexes import PathComplexAlpha, path_complex_alpha"
   ]
  },
  {
   "cell_type": "code",
   "execution_count": 12,
   "metadata": {},
   "outputs": [],
   "source": [
    "pointcloud, atom_types = read_file_new(data_10_percent)"
   ]
  },
  {
   "cell_type": "code",
   "execution_count": 13,
   "metadata": {},
   "outputs": [],
   "source": [
    "path_complexes = [path_complex_alpha(pointcloud[i]) for i in range(len(pointcloud))]"
   ]
  },
  {
   "cell_type": "code",
   "execution_count": 14,
   "metadata": {},
   "outputs": [],
   "source": [
    "sys.path.append(os.path.abspath('/Users/dilankaraguler/Desktop/cmse802_project/src/betti_numbers.py'))\n",
    "import betti_numbers\n",
    "from betti_numbers import calculate2, betti_laplacian"
   ]
  },
  {
   "cell_type": "code",
   "execution_count": 15,
   "metadata": {},
   "outputs": [],
   "source": [
    "betti_numbers = []\n",
    "for i in range(len(pointcloud)):\n",
    "    betti_numbers.append(betti_laplacian(path_complexes[i].get_complex(3),2))"
   ]
  },
  {
   "cell_type": "code",
   "execution_count": 16,
   "metadata": {},
   "outputs": [],
   "source": [
    "directory = '/Users/dilankaraguler/Desktop/cmse802_project/data/QM9/processed'\n",
    "\n",
    "# Ensure the directory exists\n",
    "os.makedirs(directory, exist_ok=True)\n",
    "\n",
    "# Specify the full path to the file\n",
    "file_path = os.path.join(directory, 'betti_numbers.pt')\n",
    "\n",
    "# Save the list of tensors to a file\n",
    "torch.save(betti_numbers, file_path)"
   ]
  }
 ],
 "metadata": {
  "kernelspec": {
   "display_name": "cmse802",
   "language": "python",
   "name": "python3"
  },
  "language_info": {
   "codemirror_mode": {
    "name": "ipython",
    "version": 3
   },
   "file_extension": ".py",
   "mimetype": "text/x-python",
   "name": "python",
   "nbconvert_exporter": "python",
   "pygments_lexer": "ipython3",
   "version": "3.11.9"
  }
 },
 "nbformat": 4,
 "nbformat_minor": 2
}
