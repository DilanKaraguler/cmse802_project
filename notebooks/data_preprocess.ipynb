{
 "cells": [
  {
   "cell_type": "code",
   "execution_count": 6,
   "metadata": {},
   "outputs": [],
   "source": [
    "import torch_geometric \n",
    "import torch\n",
    "from torch_geometric.datasets import QM9\n",
    "import random\n",
    "import os\n",
    "\n",
    "#dataset = QM9(root='/Users/dilankaraguler/Desktop/cmse802_project/data/QM9/raw')\n",
    "# for the first time, download the dataset and save it in /Users/dilankaraguler/Desktop/cmse802_project/data/QM9/raw/raw/qm9_v3.pt"
   ]
  },
  {
   "cell_type": "code",
   "execution_count": 7,
   "metadata": {},
   "outputs": [
    {
     "name": "stderr",
     "output_type": "stream",
     "text": [
      "/var/folders/0f/4zff17dd2819s0w6q2xfg0200000gn/T/ipykernel_32208/468183974.py:1: FutureWarning: You are using `torch.load` with `weights_only=False` (the current default value), which uses the default pickle module implicitly. It is possible to construct malicious pickle data which will execute arbitrary code during unpickling (See https://github.com/pytorch/pytorch/blob/main/SECURITY.md#untrusted-models for more details). In a future release, the default value for `weights_only` will be flipped to `True`. This limits the functions that could be executed during unpickling. Arbitrary objects will no longer be allowed to be loaded via this mode unless they are explicitly allowlisted by the user via `torch.serialization.add_safe_globals`. We recommend you start setting `weights_only=True` for any use case where you don't have full control of the loaded file. Please open an issue on GitHub for any issues related to this experimental feature.\n",
      "  data = torch.load('/Users/dilankaraguler/Desktop/cmse802_project/data/QM9/raw/raw/qm9_v3.pt')\n"
     ]
    },
    {
     "ename": "KeyboardInterrupt",
     "evalue": "",
     "output_type": "error",
     "traceback": [
      "\u001b[0;31m---------------------------------------------------------------------------\u001b[0m",
      "\u001b[0;31mKeyboardInterrupt\u001b[0m                         Traceback (most recent call last)",
      "\u001b[0;31mKeyboardInterrupt\u001b[0m: "
     ]
    }
   ],
   "source": [
    "data = torch.load('/Users/dilankaraguler/Desktop/cmse802_project/data/QM9/raw/qm9_v3.pt')"
   ]
  },
  {
   "cell_type": "code",
   "execution_count": null,
   "metadata": {},
   "outputs": [
    {
     "name": "stdout",
     "output_type": "stream",
     "text": [
      "Raw data keys are dict_keys(['idx', 'name', 'z', 'x', 'pos', 'edge_index', 'edge_attr', 'y'])\n"
     ]
    }
   ],
   "source": [
    "print('Raw data keys are', data[0].keys())"
   ]
  },
  {
   "cell_type": "code",
   "execution_count": null,
   "metadata": {},
   "outputs": [
    {
     "data": {
      "text/plain": [
       "13083"
      ]
     },
     "execution_count": 4,
     "metadata": {},
     "output_type": "execute_result"
    }
   ],
   "source": [
    "random.seed(2003)\n",
    "num_samples = int(0.1 * len(data))\n",
    "data_10_percent = random.sample(data, num_samples)\n",
    "\n",
    "len(data_10_percent)"
   ]
  },
  {
   "cell_type": "code",
   "execution_count": null,
   "metadata": {},
   "outputs": [],
   "source": [
    "y_values = [molecule['y'] for molecule in data_10_percent]\n",
    "y_combined = torch.stack(y_values)\n",
    "len(y_combined)\n",
    "\n",
    "directory = '/Users/dilankaraguler/Desktop/cmse802_project/data/QM9/raw'\n",
    "\n",
    "os.makedirs(directory, exist_ok=True)\n",
    "\n",
    "file_path = os.path.join(directory, 'y.pt')\n",
    "\n",
    "# Save the list of tensors to a file\n",
    "torch.save(y_combined, file_path)"
   ]
  },
  {
   "cell_type": "code",
   "execution_count": null,
   "metadata": {},
   "outputs": [],
   "source": [
    "import sys\n",
    "sys.path.append(os.path.abspath('/Users/dilankaraguler/Desktop/cmse802_project/src/data_loading'))\n",
    "import data_read\n",
    "from data_read import read_file_new "
   ]
  },
  {
   "cell_type": "code",
   "execution_count": null,
   "metadata": {},
   "outputs": [],
   "source": [
    "sys.path.append(os.path.abspath('/Users/dilankaraguler/Desktop/cmse802_project/src/topology'))\n",
    "import path_complexes\n",
    "from path_complexes import PathComplexAlpha, path_complex_alpha"
   ]
  },
  {
   "cell_type": "code",
   "execution_count": null,
   "metadata": {},
   "outputs": [],
   "source": [
    "pointcloud, atom_types = read_file_new(data_10_percent)"
   ]
  },
  {
   "cell_type": "code",
   "execution_count": null,
   "metadata": {},
   "outputs": [],
   "source": [
    "path_complexes = [path_complex_alpha(pointcloud[i]) for i in range(len(pointcloud))]"
   ]
  },
  {
   "cell_type": "code",
   "execution_count": null,
   "metadata": {},
   "outputs": [],
   "source": [
    "sys.path.append(os.path.abspath('/Users/dilankaraguler/Desktop/cmse802_project/src/betti_numbers.py'))\n",
    "import betti_numbers\n",
    "from betti_numbers import calculate2, betti_laplacian"
   ]
  },
  {
   "cell_type": "code",
   "execution_count": null,
   "metadata": {},
   "outputs": [],
   "source": [
    "betti_numbers = []\n",
    "for i in range(len(pointcloud)):\n",
    "    betti_numbers.append(betti_laplacian(path_complexes[i].get_complex(3),2))"
   ]
  },
  {
   "cell_type": "code",
   "execution_count": null,
   "metadata": {},
   "outputs": [],
   "source": [
    "directory = '/Users/dilankaraguler/Desktop/cmse802_project/data/QM9/raw'\n",
    "\n",
    "os.makedirs(directory, exist_ok=True)\n",
    "\n",
    "file_path = os.path.join(directory, 'betti_numbers.pt')\n",
    "\n",
    "torch.save(betti_numbers, file_path)"
   ]
  },
  {
   "cell_type": "code",
   "execution_count": null,
   "metadata": {},
   "outputs": [],
   "source": [
    "import torch\n",
    "from torch.utils.data import random_split\n",
    "\n",
    "X = torch.load('/Users/dilankaraguler/Desktop/cmse802_project/data/QM9/raw/betti_numbers.pt')\n",
    "y = torch.load('/Users/dilankaraguler/Desktop/cmse802_project/data/QM9/raw/y.pt')\n",
    "\n",
    "for item in X:\n",
    "    while len(item[0]) < 6:\n",
    "        item[0].append(0)"
   ]
  },
  {
   "cell_type": "code",
   "execution_count": null,
   "metadata": {},
   "outputs": [
    {
     "name": "stderr",
     "output_type": "stream",
     "text": [
      "/var/folders/0f/4zff17dd2819s0w6q2xfg0200000gn/T/ipykernel_29458/2258573334.py:4: FutureWarning: You are using `torch.load` with `weights_only=False` (the current default value), which uses the default pickle module implicitly. It is possible to construct malicious pickle data which will execute arbitrary code during unpickling (See https://github.com/pytorch/pytorch/blob/main/SECURITY.md#untrusted-models for more details). In a future release, the default value for `weights_only` will be flipped to `True`. This limits the functions that could be executed during unpickling. Arbitrary objects will no longer be allowed to be loaded via this mode unless they are explicitly allowlisted by the user via `torch.serialization.add_safe_globals`. We recommend you start setting `weights_only=True` for any use case where you don't have full control of the loaded file. Please open an issue on GitHub for any issues related to this experimental feature.\n",
      "  X = torch.load('/Users/dilankaraguler/Desktop/cmse802_project/data/QM9/processed/betti_numbers.pt')\n",
      "/var/folders/0f/4zff17dd2819s0w6q2xfg0200000gn/T/ipykernel_29458/2258573334.py:5: FutureWarning: You are using `torch.load` with `weights_only=False` (the current default value), which uses the default pickle module implicitly. It is possible to construct malicious pickle data which will execute arbitrary code during unpickling (See https://github.com/pytorch/pytorch/blob/main/SECURITY.md#untrusted-models for more details). In a future release, the default value for `weights_only` will be flipped to `True`. This limits the functions that could be executed during unpickling. Arbitrary objects will no longer be allowed to be loaded via this mode unless they are explicitly allowlisted by the user via `torch.serialization.add_safe_globals`. We recommend you start setting `weights_only=True` for any use case where you don't have full control of the loaded file. Please open an issue on GitHub for any issues related to this experimental feature.\n",
      "  y = torch.load('/Users/dilankaraguler/Desktop/cmse802_project/data/QM9/processed/y.pt')\n"
     ]
    },
    {
     "ename": "NameError",
     "evalue": "name 'train_size' is not defined",
     "output_type": "error",
     "traceback": [
      "\u001b[0;31m---------------------------------------------------------------------------\u001b[0m",
      "\u001b[0;31mNameError\u001b[0m                                 Traceback (most recent call last)",
      "Cell \u001b[0;32mIn[47], line 10\u001b[0m\n\u001b[1;32m      8\u001b[0m     \u001b[38;5;28;01mwhile\u001b[39;00m \u001b[38;5;28mlen\u001b[39m(item[\u001b[38;5;241m0\u001b[39m]) \u001b[38;5;241m<\u001b[39m \u001b[38;5;241m6\u001b[39m:\n\u001b[1;32m      9\u001b[0m         item[\u001b[38;5;241m0\u001b[39m]\u001b[38;5;241m.\u001b[39mappend(\u001b[38;5;241m0\u001b[39m)\n\u001b[0;32m---> 10\u001b[0m train_dataset_GNN, test_dataset_GNN \u001b[38;5;241m=\u001b[39m random_split(data_10_percent_2, [train_size, test_size])\n",
      "\u001b[0;31mNameError\u001b[0m: name 'train_size' is not defined"
     ]
    }
   ],
   "source": [
    "dataset = list(zip(X, y))\n",
    "\n",
    "# Define the split ratio\n",
    "train_ratio = 0.8\n",
    "train_size = int(train_ratio * len(dataset))\n",
    "test_size = len(dataset) - train_size\n",
    "\n",
    "# Split the dataset\n",
    "train_dataset, test_dataset = random_split(dataset, [train_size, test_size])\n",
    "\n",
    "# Separate X and y for train and test sets\n",
    "X_train, y_train = zip(*train_dataset)\n",
    "X_test, y_test = zip(*test_dataset)\n",
    "\n",
    "# Convert back to tensors and reshape\n",
    "X_train = torch.stack([torch.tensor(x) for x in X_train])\n",
    "y_train = torch.stack([torch.tensor(y) for y in y_train])\n",
    "X_test = torch.stack([torch.tensor(x) for x in X_test])\n",
    "y_test = torch.stack([torch.tensor(y) for y in y_test])\n",
    "X_train = X_train.reshape(-1, 6)\n",
    "X_test = X_test.reshape(-1, 6)\n",
    "\n",
    "\n",
    "# Save the split datasets\n",
    "torch.save(X_train, '/Users/dilankaraguler/Desktop/cmse802_project/data/QM9/processed/X_train.pt')\n",
    "torch.save(y_train, '/Users/dilankaraguler/Desktop/cmse802_project/data/QM9/processed/y_train.pt')\n",
    "torch.save(X_test, '/Users/dilankaraguler/Desktop/cmse802_project/data/QM9/processed/X_test.pt')\n",
    "torch.save(y_test, '/Users/dilankaraguler/Desktop/cmse802_project/data/QM9/processed/y_test.pt')"
   ]
  }
 ],
 "metadata": {
  "kernelspec": {
   "display_name": "cmse802",
   "language": "python",
   "name": "python3"
  },
  "language_info": {
   "codemirror_mode": {
    "name": "ipython",
    "version": 3
   },
   "file_extension": ".py",
   "mimetype": "text/x-python",
   "name": "python",
   "nbconvert_exporter": "python",
   "pygments_lexer": "ipython3",
   "version": "3.11.9"
  }
 },
 "nbformat": 4,
 "nbformat_minor": 2
}
